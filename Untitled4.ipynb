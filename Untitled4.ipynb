{
  "nbformat": 4,
  "nbformat_minor": 0,
  "metadata": {
    "colab": {
      "provenance": []
    },
    "kernelspec": {
      "name": "python3",
      "display_name": "Python 3"
    },
    "language_info": {
      "name": "python"
    }
  },
  "cells": [
    {
      "cell_type": "code",
      "execution_count": null,
      "metadata": {
        "id": "5rzAx_6Q2ukc"
      },
      "outputs": [],
      "source": [
        "#qnjavnkjfvnjk"
      ]
    },
    {
      "cell_type": "code",
      "source": [],
      "metadata": {
        "id": "t8zO6wJV2_sF"
      },
      "execution_count": null,
      "outputs": []
    }
  ]
}